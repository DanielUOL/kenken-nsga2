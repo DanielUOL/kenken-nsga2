{
 "cells": [
  {
   "cell_type": "code",
   "execution_count": 118,
   "metadata": {},
   "outputs": [],
   "source": [
    "import sys\n",
    "import os\n",
    "import numpy as np\n",
    "import matplotlib.pyplot as plt\n",
    "import itertools\n",
    "import pkenken as kenken\n",
    "import random\n",
    "import copy"
   ]
  },
  {
   "cell_type": "code",
   "execution_count": 94,
   "metadata": {},
   "outputs": [],
   "source": [
    "#Cargamos el tablero y visualizamos\n",
    "input_file = r'board1.txt'\n",
    "board = kenken.parse_kenken(input_file)\n",
    "#kenken.plot_board(board)"
   ]
  },
  {
   "cell_type": "code",
   "execution_count": 156,
   "metadata": {},
   "outputs": [
    {
     "data": {
      "text/plain": [
       "24"
      ]
     },
     "execution_count": 156,
     "metadata": {},
     "output_type": "execute_result"
    }
   ],
   "source": [
    "#Generamos una respuesta\n",
    "\n",
    "#Primero buscamos todas las permutaciones posibles dado el tablero\n",
    "rango = [x+1 for x in range(board.n)]\n",
    "renglones = list(itertools.permutations(rango))\n",
    "len(renglones)\n",
    "#print(renglones)"
   ]
  },
  {
   "cell_type": "code",
   "execution_count": 167,
   "metadata": {},
   "outputs": [],
   "source": [
    "class Individual:\n",
    "    def __init__(self,tam,permutaciones):\n",
    "        self.tablero = []\n",
    "        \n",
    "        ind_ant = random.randint(0,tam-1)\n",
    "        for _ in range(tam):\n",
    "            ind_act = random.randint(0,len(permutaciones)-1)\n",
    "            while(ind_act == ind_ant):\n",
    "                ind_act = random.randint(0,len(permutaciones)-1) \n",
    "            self.tablero.append(permutaciones[ind_act])\n",
    "            ind_ant = ind_act\n",
    "        \n",
    "        self.tam = tam\n",
    "        self.fitness = [0,0]\n",
    "        \n",
    "    def crossover(self,I2):\n",
    "        pcr = random.randint(1,self.tam-1)\n",
    "        \n",
    "        H1 = self.tablero[:pcr]\n",
    "        Hh2 = I2.tablero[pcr:]\n",
    "        for ren in Hh2:\n",
    "            H1.append(ren)\n",
    "            \n",
    "    \n",
    "        H2 = I2.tablero[:pcr]\n",
    "        Hh1 = self.tablero[pcr:]\n",
    "        for ren in Hh1:\n",
    "            H2.append(ren)\n",
    "\n",
    "\n",
    "        HI1=copy.deepcopy(self)\n",
    "        HI2=copy.deepcopy(self)\n",
    "\n",
    "        HI1.tablero = H1 \n",
    "        HI2.tablero = H2\n",
    "        return HI1,HI2\n",
    "\n",
    "    def mutation(self,permutaciones):\n",
    "        pmt = random.randint(0,self.tam-1)\n",
    "        self.tablero[pmt] = permutaciones[random.randint(0,len(permutaciones)-1)]\n",
    "        \n",
    "    def calcfitness(self,board):\n",
    "        board.load_solution(self.tablero)\n",
    "        \n",
    "        suma = 0\n",
    "        for i in range(len(board.cages)):\n",
    "            dif = board.cages[i].evaluate2() - board.cages[i].result\n",
    "            if dif<0:\n",
    "                dif*=-1\n",
    "            suma += dif\n",
    "       \n",
    "        self.fitness[0]=suma\n",
    "        self.fitness[1]=len(board.evaluate()[2])\n",
    "        "
   ]
  },
  {
   "cell_type": "code",
   "execution_count": 168,
   "metadata": {},
   "outputs": [],
   "source": [
    "def dominates(p1,p2):\n",
    "    M = len(p1.fitness)\n",
    "    mejor = False\n",
    "    for m in range(M):\n",
    "        if p1.fitness[m] > p2.fitness[m]:\n",
    "            return False\n",
    "        if p1.fitness[m] < p2.fitness[m]:\n",
    "            mejor = True\n",
    "    return mejor"
   ]
  },
  {
   "cell_type": "code",
   "execution_count": 188,
   "metadata": {
    "scrolled": false
   },
   "outputs": [
    {
     "name": "stdout",
     "output_type": "stream",
     "text": [
      "20\n",
      "20\n"
     ]
    }
   ],
   "source": [
    "N=20\n",
    "pM = .9\n",
    "G = 120\n",
    "tam = board.n\n",
    "Poblacion = [Individual(tam,renglones) for i in range(N)]\n",
    "\n",
    "for i in range(G):\n",
    "    for tab in Poblacion:\n",
    "        tab.calcfitness(board)\n",
    "    offspring = []\n",
    "    for j in range(N//2):\n",
    "        torneo = []\n",
    "        for i in range(2):\n",
    "            cont1 = Poblacion[random.randint(0,tam-1)]\n",
    "            cont2 = Poblacion[random.randint(0,tam-1)]\n",
    "            if(dominates(cont1,cont2)):\n",
    "                torneo.append(cont1)\n",
    "            elif(dominates(cont2,cont2)):\n",
    "                torneo.append(cont2)\n",
    "            else:\n",
    "                torneo.append(cont1)\n",
    "        \n",
    "        H1,H2 = torneo[0].crossover(torneo[1])\n",
    "\n",
    "        if random.random() <= pM:\n",
    "            H1.mutation(renglones)\n",
    "        if random.random() <= pM:\n",
    "            H2.mutation(renglones)\n",
    "    \n",
    "        offspring.append(H1)\n",
    "        offspring.append(H2)\n",
    "        plebada = Poblacion + offspring\n",
    "        #ordenar plebada multiobjetivo\n",
    "        \n",
    "        #truncar a tamaño N\n",
    "        \n",
    "        \n",
    "print(len(Poblacion))\n",
    "print(len(offspring))"
   ]
  },
  {
   "cell_type": "code",
   "execution_count": null,
   "metadata": {},
   "outputs": [],
   "source": []
  },
  {
   "cell_type": "code",
   "execution_count": null,
   "metadata": {},
   "outputs": [],
   "source": []
  },
  {
   "cell_type": "code",
   "execution_count": null,
   "metadata": {},
   "outputs": [],
   "source": []
  }
 ],
 "metadata": {
  "kernelspec": {
   "display_name": "Python 3",
   "language": "python",
   "name": "python3"
  },
  "language_info": {
   "codemirror_mode": {
    "name": "ipython",
    "version": 3
   },
   "file_extension": ".py",
   "mimetype": "text/x-python",
   "name": "python",
   "nbconvert_exporter": "python",
   "pygments_lexer": "ipython3",
   "version": "3.7.0"
  }
 },
 "nbformat": 4,
 "nbformat_minor": 2
}
