{
 "cells": [
  {
   "cell_type": "markdown",
   "metadata": {},
   "source": [
    "# KenKen\n",
    "Hugo Guillén, 2018.\n",
    "\n",
    "## Prerrequisitos\n",
    "Instalar `shapely`\n",
    "\n",
    "## Archivos de tablero KenKen\n",
    "El archivo del tablero tiene el siguiente formato:\n",
    "- Primer línea: dimensión de la matriz (un entero mayor o igual a 3)\n",
    "- Lineas subsecuentes: las `cages`. Cada `cage` se define por los siguientes valores separados por comas:\n",
    " - El primer valor es el resultado al que debe llegar la `cage`.\n",
    " - El segundo valor es la operación (`+ - / * =`)\n",
    " - Los valores siguientes son las coordenadas de las celdas que conforman la `cage`. Los índices inician en 0. Primero se especifica la fila, después sigue un espacio, y después la columna.\n",
    "\n",
    "Por ejemplo, para el siguiente tablero:\n",
    "<img src=\"example.png\" style=\"width: 200px;\"/>\n",
    "\n",
    "El archivo correspondiente (sin especificar los valores) sería el siguiente:\n",
    "```\n",
    "4\n",
    "8,+,0 0,1 0,1 1\n",
    "3,=,0 1\n",
    "16,*,0 2,0 3,1 2,1 3\n",
    "2,/,2 0, 3 0\n",
    "1,-,2 1,2 2\n",
    "3,-,3 1,3 2\n",
    "2,-,2 3,3 3\n",
    "```"
   ]
  },
  {
   "cell_type": "code",
   "execution_count": 1,
   "metadata": {},
   "outputs": [],
   "source": [
    "import sys\n",
    "import os\n",
    "from os import path,listdir\n",
    "import numpy as np\n",
    "import matplotlib.pyplot as plt\n",
    "from shapely import geometry, ops\n",
    "\n",
    "class Cage:\n",
    "    def __init__(self,n,result,operation,points):\n",
    "        self.n=n\n",
    "        self.result=result\n",
    "        self.operation=operation\n",
    "        self.points=points\n",
    "        if operation == '=':\n",
    "            self.values = [self.result]\n",
    "        else:\n",
    "            self.values = [0]*len(points)\n",
    "                \n",
    "                \n",
    "    def __repr__(self):\n",
    "        return ' '.join(map(str,[self.result,self.operation,self.points,self.values]))\n",
    "\n",
    "    \n",
    "    def op_str(self):\n",
    "        if self.operation == '=':\n",
    "            return ' '\n",
    "        if self.operation == '/':\n",
    "            return '÷'\n",
    "        if self.operation == '*':\n",
    "            return '×'\n",
    "        return self.operation\n",
    "    \n",
    "    \n",
    "    def evaluate(self):\n",
    "        if min(self.values)==0:\n",
    "                return False\n",
    "        if self.operation == '=':\n",
    "            return self.values[0] == self.result\n",
    "        if self.operation == '-':\n",
    "            return (max(self.values)-min(self.values)) == self.result\n",
    "        if self.operation == '/':            \n",
    "            return (max(self.values)/min(self.values)) == self.result\n",
    "        if self.operation == '+':\n",
    "            return (np.sum(self.values)) == self.result\n",
    "        if self.operation == '*':\n",
    "            return (np.prod(self.values)) == self.result \n",
    "        \n",
    "        \n",
    "    def evaluate2(self):\n",
    "        if min(self.values)==0:\n",
    "                return False\n",
    "        if self.operation == '=':\n",
    "            return self.values[0]\n",
    "        if self.operation == '-':\n",
    "            return (max(self.values)-min(self.values))\n",
    "        if self.operation == '/':            \n",
    "            return (max(self.values)/min(self.values))\n",
    "        if self.operation == '+':\n",
    "            return (np.sum(self.values))\n",
    "        if self.operation == '*':\n",
    "            return (np.prod(self.values))\n",
    "        \n",
    "        \n",
    "class KenkenBoard:\n",
    "    def __init__(self,cages):        \n",
    "        self.cages = cages\n",
    "        self.n = cages[0].n\n",
    "        \n",
    "    def __repr__(self):\n",
    "        return '\\n'.join(map(str,self.cages))\n",
    "    \n",
    "    def load_solution(self,M):\n",
    "        self.solution = np.array(M)\n",
    "        for cage in self.cages:\n",
    "            for idx,p in enumerate(cage.points):\n",
    "                cage.values[idx] = self.solution[p[0]][p[1]]\n",
    "                \n",
    "    def evaluate(self):\n",
    "        bad_cages,bad_rows,bad_cols = [],[],[]\n",
    "        self.solution = np.zeros((self.n,self.n))\n",
    "        for idx,cage in enumerate(self.cages):            \n",
    "            if not cage.evaluate():\n",
    "                bad_cages.append(idx)\n",
    "            for idx,p in enumerate(cage.points):\n",
    "                self.solution[p[0]][p[1]] = cage.values[idx]\n",
    "        for idx,row in enumerate(self.solution):\n",
    "            if len(set(row)) != self.n:\n",
    "                bad_rows.append(idx)\n",
    "        for idx,col in enumerate(self.solution.T):\n",
    "            if len(set(col)) != self.n:\n",
    "                bad_cols.append(idx)\n",
    "        return bad_cages,bad_rows,bad_cols\n",
    "                \n",
    "    \n",
    "def parse_kenken(input_file):\n",
    "    with open(input_file,'r') as f:\n",
    "        lines = [l.strip() for l in f.readlines() if len(l.strip())>0]    \n",
    "    cages = []\n",
    "    n = int(lines[0])\n",
    "    for l in lines[1:]:\n",
    "        args = l.split(',')\n",
    "        result=int(args[0])\n",
    "        operation=args[1]\n",
    "        points = []\n",
    "        for a in args[2:]:\n",
    "            points.append(tuple(map(int,a.strip().split(' '))))        \n",
    "        cage = Cage(n=n,result=result,operation=operation,points=points)\n",
    "        cages.append(cage)        \n",
    "    board = KenkenBoard(cages=cages)    \n",
    "    return board    \n",
    "\n",
    "\n",
    "def plot_board(board,figsize=(5,5)):\n",
    "    plt.close('all')\n",
    "    n = board.n\n",
    "    fig,ax = plt.subplots(figsize=figsize)\n",
    "    for cage in board.cages:        \n",
    "        squares = []\n",
    "        for p in cage.points:            \n",
    "            ip = p[::-1]\n",
    "            squares.append(geometry.box(ip[0],ip[1],ip[0]+1,ip[1]+1))\n",
    "        shape = ops.cascaded_union(squares)\n",
    "        xs, ys = shape.exterior.xy        \n",
    "        ax.plot(xs,ys,linewidth=3,color='black')\n",
    "        ip = cage.points[0][::-1]\n",
    "        ax.text(ip[0]+.1,ip[1]+.1,'%s %s'%(cage.result,cage.op_str()),ha='left',va='top')\n",
    "    ax.set_xticks(range(n+1))\n",
    "    ax.set_yticks(range(n+1))\n",
    "    ax.tick_params(labelbottom=False,labelleft=False) \n",
    "    plt.xlim(0,n)\n",
    "    plt.ylim(0,n)    \n",
    "    plt.ylim(n,0)\n",
    "    plt.grid(True)\n",
    "    plt.show()\n",
    "    \n",
    "    \n",
    "def plot_board_solution(board,figsize=(5,5)):\n",
    "    plt.close('all')\n",
    "    n = board.n\n",
    "    fig,ax = plt.subplots(figsize=figsize)\n",
    "    bad_cages,bad_rows,bad_cols = board.evaluate()\n",
    "    for cage in board.cages:        \n",
    "        squares = []\n",
    "        for idx,p in enumerate(cage.points):\n",
    "            ip = p[::-1]\n",
    "            squares.append(geometry.box(ip[0],ip[1],ip[0]+1,ip[1]+1))\n",
    "            ax.text(ip[0]+.5,ip[1]+.5,'%s'%(cage.values[idx]),ha='center',va='center',size='xx-large')\n",
    "        shape = ops.cascaded_union(squares)\n",
    "        xs, ys = shape.exterior.xy\n",
    "        ax.fill(xs, ys, alpha=0.3, fc= 'g' if cage.evaluate() else 'r', ec='none')\n",
    "        ax.plot(xs,ys,linewidth=3,color='black')\n",
    "        ip = cage.points[0][::-1]\n",
    "        ax.text(ip[0]+.1,ip[1]+.1,'%s %s'%(cage.result,cage.op_str()),ha='left',va='top')\n",
    "    for row in bad_rows:\n",
    "        shape = geometry.box(0,row+.3,0.1,row+.7)\n",
    "        xs, ys = shape.exterior.xy\n",
    "        ax.fill(xs, ys, alpha=1, fc='r', ec='black')\n",
    "    for col in bad_cols:\n",
    "        shape = geometry.box(col+.3,0,col+.7,0.1)\n",
    "        xs, ys = shape.exterior.xy\n",
    "        ax.fill(xs, ys, alpha=1, fc='r', ec='black')\n",
    "    ax.set_xticks(range(n+1))\n",
    "    ax.set_yticks(range(n+1))\n",
    "    ax.tick_params(labelbottom=False,labelleft=False) \n",
    "    plt.xlim(0,n)    \n",
    "    plt.ylim(n,0)\n",
    "    plt.grid(True)\n",
    "    plt.show()"
   ]
  },
  {
   "cell_type": "markdown",
   "metadata": {},
   "source": [
    "### Cargar tablero y dibujar"
   ]
  },
  {
   "cell_type": "code",
   "execution_count": 2,
   "metadata": {},
   "outputs": [
    {
     "data": {
      "image/png": "[encoded data removed]",
      "text/plain": [
       "<Figure size 360x360 with 1 Axes>"
      ]
     },
     "metadata": {},
     "output_type": "display_data"
    }
   ],
   "source": [
    "input_file = r'board1.txt'\n",
    "board = parse_kenken(input_file)\n",
    "plot_board(board)"
   ]
  },
  {
   "cell_type": "markdown",
   "metadata": {},
   "source": [
    "### Crear una solución random y evaluarla\n",
    "La función de evaluación regresa 3 listas: la primera contiene los índices de las `cages` incorrectas, la segunda los índices de las filas incorrectas y la tercera los índices de las columnas incorrectas."
   ]
  },
  {
   "cell_type": "code",
   "execution_count": 3,
   "metadata": {},
   "outputs": [
    {
     "name": "stdout",
     "output_type": "stream",
     "text": [
      "([0, 1, 2, 3, 4, 5], [0, 1, 2, 3], [0, 1, 2, 3])\n"
     ]
    },
    {
     "data": {
      "image/png": "[encoded data removed]",
      "text/plain": [
       "<Figure size 360x360 with 1 Axes>"
      ]
     },
     "metadata": {},
     "output_type": "display_data"
    }
   ],
   "source": [
    "n = board.n\n",
    "solution_random = np.floor(np.random.rand(n,n)*n+1).astype(int)\n",
    "board.load_solution(solution_random)\n",
    "print(board.evaluate())\n",
    "plot_board_solution(board)"
   ]
  },
  {
   "cell_type": "code",
   "execution_count": null,
   "metadata": {},
   "outputs": [],
   "source": []
  },
  {
   "cell_type": "markdown",
   "metadata": {},
   "source": [
    "## Cargar una solución completa arbitraria"
   ]
  },
  {
   "cell_type": "code",
   "execution_count": 4,
   "metadata": {},
   "outputs": [
    {
     "name": "stdout",
     "output_type": "stream",
     "text": [
      "([1], [2, 3], [2, 3])\n"
     ]
    },
    {
     "data": {
      "image/png": "[encoded data removed]",
      "text/plain": [
       "<Figure size 360x360 with 1 Axes>"
      ]
     },
     "metadata": {},
     "output_type": "display_data"
    }
   ],
   "source": [
    "solution_bad = np.array([[1,5,2,4],[3,4,2,1],[2,2,3,1],[4,1,4,3]])\n",
    "board.load_solution(solution_bad)\n",
    "print(board.evaluate())\n",
    "plot_board_solution(board)"
   ]
  },
  {
   "cell_type": "markdown",
   "metadata": {},
   "source": [
    "Se pueden modificar los valores individuales de los `cages` y el tablero automáticamente registra los cambios."
   ]
  },
  {
   "cell_type": "code",
   "execution_count": 5,
   "metadata": {
    "scrolled": true
   },
   "outputs": [
    {
     "name": "stdout",
     "output_type": "stream",
     "text": [
      "([], [], [])\n"
     ]
    },
    {
     "data": {
      "image/png": "[encoded data removed]",
      "text/plain": [
       "<Figure size 360x360 with 1 Axes>"
      ]
     },
     "metadata": {},
     "output_type": "display_data"
    }
   ],
   "source": [
    "board.cages[1].values=[3]\n",
    "board.cages[2].values=[2,4,1,2]\n",
    "board.cages[3].values=[4,2]\n",
    "print(board.evaluate())\n",
    "plot_board_solution(board)"
   ]
  },
  {
   "cell_type": "code",
   "execution_count": 6,
   "metadata": {},
   "outputs": [],
   "source": [
    "import numpy as np\n",
    "import matplotlib.pyplot as plt\n",
    "\n",
    "def random_points(N=100):\n",
    "    return [np.random.rand(2) for i in range(N)]\n",
    "\n",
    "def plot_points(points,figsize=(6,6),plot_idx=True):\n",
    "    fig,ax = plt.subplots(figsize=figsize)\n",
    "    M = np.array(points)    \n",
    "    plt.scatter(M[:,0],M[:,1],s=100,color='gray',alpha=0.5)\n",
    "    if plot_idx:\n",
    "        for idx,p in enumerate(points):\n",
    "            plt.text(p[0],p[1],str(idx), ha='center',va='center')\n",
    "    plt.xlabel('$f_1(x)$',fontsize=18)\n",
    "    plt.ylabel('$f_2(x)$',fontsize=18)\n",
    "    plt.show()\n",
    "    \n",
    "def plot_nondominatedset(points,P,figsize=(6,6)):\n",
    "    fig,ax = plt.subplots(figsize=figsize)\n",
    "    nd_mask = np.zeros(len(points), dtype=bool)\n",
    "    for p in P:\n",
    "        nd_mask[p]=True\n",
    "    M = np.array(points)\n",
    "    M1 = M[np.logical_not(nd_mask),:]\n",
    "    plt.scatter(M1[:,0],M1[:,1],s=100,color='gray',alpha=0.5)\n",
    "    M2 = M[nd_mask,:]\n",
    "    plt.scatter(M2[:,0],M2[:,1],s=100,color='red',alpha=1)\n",
    "    plt.xlabel('$f_1(x)$',fontsize=18)\n",
    "    plt.ylabel('$f_2(x)$',fontsize=18)\n",
    "    plt.show()\n",
    "    \n",
    "def plot_nondominatedsort(points,fronts,figsize=(6,6)):\n",
    "    if len(fronts) == 0:\n",
    "        return\n",
    "    fig,ax = plt.subplots(figsize=figsize)    \n",
    "    for idx,F in enumerate(fronts):\n",
    "        P = sorted([points[p] for p in F], key=lambda x:(x[0],x[1]))\n",
    "        M = np.array(P)\n",
    "        plt.plot(M[:,0],M[:,1],'o-',alpha=0.5)\n",
    "        for p in F:\n",
    "            plt.text(points[p][0],points[p][1],str(idx), ha='center',va='center')\n",
    "    plt.xlabel('$f_1(x)$',fontsize=18)\n",
    "    plt.ylabel('$f_2(x)$',fontsize=18)\n",
    "    plt.show()"
   ]
  },
  {
   "cell_type": "code",
   "execution_count": 7,
   "metadata": {},
   "outputs": [],
   "source": [
    "def dominates(p1,p2):\n",
    "    return ((p1[0]<=p2[0] and p1[1]<=p2[1]) and (p1[0]<p2[0] or p1[1]<p2[1]))"
   ]
  },
  {
   "cell_type": "code",
   "execution_count": 8,
   "metadata": {},
   "outputs": [],
   "source": [
    "def nondominatedsort(points):\n",
    "    n = len(points)\n",
    "    S = np.zeros(n, dtype=int)\n",
    "    dominancia = {}\n",
    "    ###INSERTE SU CÓDIGO AQUÍ\n",
    "    sets = []\n",
    "    for i in range(n-1):\n",
    "        for j in range(i+1,n):\n",
    "            if dominates(points[i],points[j]):\n",
    "                S[j]+=1\n",
    "                if str(i) not in dominancia:\n",
    "                    dominancia[str(i)] = [j]\n",
    "                else:\n",
    "                    dominancia[str(i)].append(j)\n",
    "            if dominates(points[j],points[i]):\n",
    "                S[i] +=1\n",
    "                if str(j) not in dominancia:\n",
    "                    dominancia[str(j)] = [i]\n",
    "                else:\n",
    "                    dominancia[str(j)].append(i)\n",
    "                \n",
    "    \n",
    "    #print(S)\n",
    "    #print(dominancia)\n",
    "    #cond = True\n",
    "    while(True):\n",
    "        subset = []\n",
    "        for i in range(len(S)):\n",
    "            if S[i] == 0:\n",
    "                subset.append(i)\n",
    "                S[i] = -999\n",
    "        \n",
    "        for e in subset:\n",
    "            if str(e) in dominancia:\n",
    "                for ind in dominancia[str(e)]:\n",
    "                    S[ind] -= 1\n",
    "        sets.append(subset)\n",
    "        if max(S) == -999:\n",
    "            break\n",
    "        \n",
    "            \n",
    "    #print(S)\n",
    "                \n",
    "    #print(sets)\n",
    "            \n",
    "    \n",
    "    return sets"
   ]
  },
  {
   "cell_type": "code",
   "execution_count": 9,
   "metadata": {},
   "outputs": [],
   "source": [
    "def diferenciacages(board):\n",
    "    suma = 0\n",
    "    for i in range(len(board.cages)):\n",
    "        dif = board.cages[i].evaluate2() - board.cages[i].result\n",
    "        if dif<0:\n",
    "            dif*=-1\n",
    "        suma += dif\n",
    "    return suma"
   ]
  },
  {
   "cell_type": "code",
   "execution_count": 22,
   "metadata": {},
   "outputs": [
    {
     "name": "stdout",
     "output_type": "stream",
     "text": [
      "7\n",
      "1\n",
      "72\n",
      "1.3333333333333333\n",
      "2\n",
      "3\n",
      "0\n",
      "[[6, 3], 0]\n",
      "[[62.666666666666664, 3], 0]\n"
     ]
    },
    {
     "data": {
      "image/png": "[encoded data removed]",
      "text/plain": [
       "<Figure size 360x360 with 1 Axes>"
      ]
     },
     "metadata": {},
     "output_type": "display_data"
    }
   ],
   "source": [
    "import itertools\n",
    "from sympy.utilities.iterables import multiset_permutations\n",
    "import random as rand\n",
    "\n",
    "input_file = r'board1.txt'\n",
    "board = parse_kenken(input_file)\n",
    "n = board.n\n",
    "arreglo = np.array([1,2,3,4])\n",
    "permutaciones = [p for p in multiset_permutations(arreglo)]\n",
    "solution_random = [permutaciones[rand.randint(0,len(permutaciones)-1)] for i in range(n)]\n",
    "#print(solution_random)\n",
    "board.load_solution(solution_random)\n",
    "#print(board)\n",
    "#print(board.cages[2])\n",
    "suma = 0\n",
    "for i in range(len(board.cages)):\n",
    "    print(board.cages[i].evaluate2())\n",
    "    dif = board.cages[i].evaluate2() - board.cages[i].result\n",
    "    if dif<0:\n",
    "        dif*=-1\n",
    "    suma += dif\n",
    "#print(board.cages[2].evaluate())\n",
    "\n",
    "\n",
    "frente = [[len(board.evaluate()[0]),len(board.evaluate()[2])],0]\n",
    "frente2 = [[diferenciacages(board),len(board.evaluate()[2])],0]\n",
    "print(frente)\n",
    "print(frente2)\n",
    "plot_board_solution(board)"
   ]
  },
  {
   "cell_type": "code",
   "execution_count": 41,
   "metadata": {
    "scrolled": false
   },
   "outputs": [
    {
     "name": "stdout",
     "output_type": "stream",
     "text": [
      "[[[12, 4], 0], [[40, 3], 1], [[36, 4], 2], [[3, 4], 3], [[13, 4], 4], [[11, 4], 5], [[14, 4], 6], [[5, 4], 7], [[16, 4], 8], [[9, 4], 9], [[7, 3], 10], [[14, 4], 11], [[11, 2], 12], [[40, 4], 13], [[9, 4], 14], [[15, 4], 15], [[61, 4], 16], [[5, 4], 17], [[16, 3], 18], [[14, 4], 19], [[3, 2], 20], [[16, 3], 21], [[14, 4], 22], [[12, 3], 23], [[25, 4], 24], [[4, 4], 25], [[53, 3], 26], [[54, 3], 27], [[24, 4], 28], [[25, 3], 29], [[136, 3], 30], [[14, 3], 31], [[13, 3], 32], [[39, 4], 33], [[21, 2], 34], [[6, 2], 35], [[64, 4], 36], [[23, 4], 37], [[87, 4], 38], [[10, 3], 39], [[10, 4], 40], [[11, 4], 41], [[20, 3], 42], [[2, 4], 43], [[39, 4], 44], [[25, 3], 45], [[16, 4], 46], [[40, 3], 47], [[29, 4], 48], [[87, 4], 49], [[4, 4], 50], [[9, 4], 51], [[9, 3], 52], [[10, 4], 53], [[27, 3], 54], [[12, 3], 55], [[9, 4], 56], [[58, 3], 57], [[29, 4], 58], [[20, 3], 59]]\n",
      "#####################################\n",
      "[[12, 4], [40, 3], [36, 4], [3, 4], [13, 4], [11, 4], [14, 4], [5, 4], [16, 4], [9, 4], [7, 3], [14, 4], [11, 2], [40, 4], [9, 4], [15, 4], [61, 4], [5, 4], [16, 3], [14, 4], [3, 2], [16, 3], [14, 4], [12, 3], [25, 4], [4, 4], [53, 3], [54, 3], [24, 4], [25, 3], [136, 3], [14, 3], [13, 3], [39, 4], [21, 2], [6, 2], [64, 4], [23, 4], [87, 4], [10, 3], [10, 4], [11, 4], [20, 3], [2, 4], [39, 4], [25, 3], [16, 4], [40, 3], [29, 4], [87, 4], [4, 4], [9, 4], [9, 3], [10, 4], [27, 3], [12, 3], [9, 4], [58, 3], [29, 4], [20, 3]]\n",
      "QWERTYQWERTYQWERTYQWERTYQWERTYQWERTYQWERTY\n",
      "[20, 43]\n",
      "[3, 35]\n",
      "[10, 12, 25, 50]\n",
      "[7, 17, 34, 52]\n",
      "[9, 14, 39, 51, 56]\n",
      "[23, 40, 53, 55]\n",
      "[5, 32, 41]\n",
      "[0, 31]\n",
      "[4, 18, 21]\n",
      "[6, 11, 19, 22, 42, 59]\n",
      "[15, 29, 45]\n",
      "[8, 46, 54]\n",
      "[1, 37, 47]\n",
      "[26, 28]\n",
      "[24, 27]\n",
      "[48, 57, 58]\n",
      "[2, 30]\n",
      "[33, 44]\n",
      "[13]\n",
      "[16]\n",
      "[36]\n",
      "[38, 49]\n"
     ]
    },
    {
     "data": {
      "image/png": "[encoded data removed]",
      "text/plain": [
       "<Figure size 432x432 with 1 Axes>"
      ]
     },
     "metadata": {
      "needs_background": "light"
     },
     "output_type": "display_data"
    },
    {
     "data": {
      "image/png": "[encoded data removed]",
      "text/plain": [
       "<Figure size 432x432 with 1 Axes>"
      ]
     },
     "metadata": {
      "needs_background": "light"
     },
     "output_type": "display_data"
    }
   ],
   "source": [
    "N = 60  # tamaño de la poblacion\n",
    "pM = .9  # probabilidad de mutacion\n",
    "i = 0  # contador de generaciones\n",
    "G = 120  # Numero de generaciones\n",
    "\n",
    "poblacion = [parse_kenken(input_file) for i in range(N)]\n",
    "for tablero in poblacion:\n",
    "    solucion_random = []\n",
    "    ind_ant = rand.randint(0,len(permutaciones)-1)\n",
    "    for _ in range(n):\n",
    "        ind_act = rand.randint(0,len(permutaciones)-1)\n",
    "        while(ind_act == ind_ant):\n",
    "            ind_act = rand.randint(0,len(permutaciones)-1) \n",
    "        solucion_random.append(permutaciones[ind_act])\n",
    "        ind_ant = ind_act\n",
    "        \n",
    "    tablero.load_solution(solucion_random)\n",
    "    #print(tablero.evaluate())\n",
    "    #plot_board_solution(tablero)\n",
    "    ##objetivos\n",
    "    ##1. la suma de las diferencias de resultados de cada cage\n",
    "    ##2. el numero de columnas incorrectas\n",
    " \n",
    "\n",
    "#frente = [[[len(poblacion[i].evaluate()[0]),len(poblacion[i].evaluate()[2])],i] for i in range(N)]\n",
    "frente2 = [[[int(diferenciacages(poblacion[i])),len(poblacion[i].evaluate()[2])],i] for i in range(N)]\n",
    "#frente2 = [[[diferenciacages(poblacion[i]),len(poblacion[i].evaluate()[2])],i] for i in range(N)]\n",
    "#print(frente)\n",
    "print(frente2)\n",
    "\n",
    "board = poblacion[0]\n",
    "#print(board)\n",
    "print(\"#####################################\")\n",
    "points = [e[0] for e in frente2]\n",
    "print(points)\n",
    "print(\"QWERTYQWERTYQWERTYQWERTYQWERTYQWERTYQWERTY\")\n",
    "sets = nondominatedsort(points)\n",
    "for s in sets:\n",
    "    print(s)\n",
    "plot_nondominatedsort(points,sets)\n",
    "plot_points(points)\n",
    "##([cages incorrectas],[indices de filas incorrectas],[indices de columnas incorrectas])\n",
    "while(i<G):\n",
    "    i += 1\n",
    "    \n",
    "\n",
    "    "
   ]
  },
  {
   "cell_type": "code",
   "execution_count": 35,
   "metadata": {},
   "outputs": [
    {
     "name": "stdout",
     "output_type": "stream",
     "text": [
      "0.38625124618480344\n"
     ]
    }
   ],
   "source": [
    "print(rand.uniform(.3,.7))"
   ]
  },
  {
   "cell_type": "code",
   "execution_count": null,
   "metadata": {},
   "outputs": [],
   "source": []
  }
 ],
 "metadata": {
  "kernelspec": {
   "display_name": "Python 3",
   "language": "python",
   "name": "python3"
  },
  "language_info": {
   "codemirror_mode": {
    "name": "ipython",
    "version": 3
   },
   "file_extension": ".py",
   "mimetype": "text/x-python",
   "name": "python",
   "nbconvert_exporter": "python",
   "pygments_lexer": "ipython3",
   "version": "3.7.0"
  }
 },
 "nbformat": 4,
 "nbformat_minor": 2
}
